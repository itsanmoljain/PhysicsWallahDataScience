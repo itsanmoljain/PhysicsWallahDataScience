{
 "cells": [
  {
   "cell_type": "markdown",
   "id": "68ae5c83",
   "metadata": {},
   "source": [
    "### Ques-1"
   ]
  },
  {
   "cell_type": "markdown",
   "id": "7cb30872",
   "metadata": {},
   "source": [
    "#### Which keyword is used to create a function? Create a function to return a list of odd numbers in the range of 1 to 25."
   ]
  },
  {
   "cell_type": "markdown",
   "id": "077a7498",
   "metadata": {},
   "source": [
    "### Ans -1\n"
   ]
  },
  {
   "cell_type": "code",
   "execution_count": 3,
   "id": "e6563a4f",
   "metadata": {},
   "outputs": [
    {
     "name": "stdout",
     "output_type": "stream",
     "text": [
      "[1, 3, 5, 7, 9, 11, 13, 15, 17, 19, 21, 23, 25]\n"
     ]
    }
   ],
   "source": [
    "# def keyword is used to create a function, here def means define\n",
    "\n",
    "def odd_num():\n",
    "    l=[]\n",
    "    for i in range(1,26):\n",
    "        if i%2==1:\n",
    "            l.append(i)\n",
    "    return l\n",
    "print(odd_num())"
   ]
  },
  {
   "cell_type": "markdown",
   "id": "6940d7f5",
   "metadata": {},
   "source": [
    "### Ques-2"
   ]
  },
  {
   "cell_type": "markdown",
   "id": "b3fdded1",
   "metadata": {},
   "source": [
    "#### Why *args and **kwargs is used in some functions? Create a function each for *args and **kwargs to demonstrate their use."
   ]
  },
  {
   "cell_type": "markdown",
   "id": "61be954f",
   "metadata": {},
   "source": [
    "### Ans -2\n"
   ]
  },
  {
   "cell_type": "markdown",
   "id": "bea382d4",
   "metadata": {},
   "source": [
    "### *args, and **kwargs can pass a variable number of arguments to a function using special symbols. There are two special symbols:\n",
    "### *args in Python (Non-Keyword Arguments)\n",
    "### **kwargs in Python (Keyword Arguments)"
   ]
  },
  {
   "cell_type": "code",
   "execution_count": 7,
   "id": "66652607",
   "metadata": {},
   "outputs": [
    {
     "name": "stdout",
     "output_type": "stream",
     "text": [
      "Hello\n",
      "Welcome\n",
      "to\n",
      "Python\n",
      "\n",
      "first == Python\n",
      "mid == for\n",
      "last == Developers\n"
     ]
    }
   ],
   "source": [
    "# Example for *args\n",
    "def myFun(*argv):\n",
    "    for arg in argv:\n",
    "        print(arg)\n",
    " \n",
    " \n",
    "myFun('Hello', 'Welcome', 'to', 'Python')\n",
    "print()\n",
    "\n",
    "# Example for *kwargs\n",
    "def myFun1(**kwargs):\n",
    "    for key, value in kwargs.items():\n",
    "        print(key,\"==\", value)\n",
    " \n",
    " \n",
    "# Driver code\n",
    "myFun1(first='Python', mid='for', last='Developers')\n"
   ]
  },
  {
   "cell_type": "markdown",
   "id": "42ee7505",
   "metadata": {},
   "source": [
    "### Ques-3"
   ]
  },
  {
   "cell_type": "markdown",
   "id": "3d6fe0f7",
   "metadata": {},
   "source": [
    "#### What is an iterator in python? Name the method used to initialise the iterator object and the methodused for iteration. Use these methods to print the first five elements of the given list [2, 4, 6, 8, 10, 12, 14,16, 18, 20]."
   ]
  },
  {
   "cell_type": "markdown",
   "id": "3d313e5f",
   "metadata": {},
   "source": [
    "### Ans-3"
   ]
  },
  {
   "cell_type": "code",
   "execution_count": 8,
   "id": "5de08242",
   "metadata": {},
   "outputs": [
    {
     "name": "stdout",
     "output_type": "stream",
     "text": [
      "2\n",
      "4\n",
      "6\n",
      "8\n",
      "10\n"
     ]
    }
   ],
   "source": [
    "\"\"\"\n",
    "An iterator in Python is an object that is used to iterate over iterable objects like lists, tuples, dicts, and sets.\n",
    "The Python iterators object is initialized using the iter() method. It uses the next() method for iteration.\n",
    "\n",
    "The iter() method is called for the initialization of an iterator. This returns an iterator object¹².\n",
    "\n",
    "The next() method returns the next value for the iterable. \n",
    "\n",
    "When we use a for loop to traverse any iterable object, internally it uses the iter() method to get an iterator\n",
    "object, which further uses the next() method to iterate over¹².\n",
    "\n",
    "\"\"\"\n",
    "\n",
    "l = [2, 4, 6, 8, 10, 12, 14,16, 18, 20]\n",
    "lst = iter(l)\n",
    "\n",
    "for i in range(5):\n",
    "    print(next(lst))"
   ]
  },
  {
   "cell_type": "markdown",
   "id": "0c63c989",
   "metadata": {},
   "source": [
    "### Ques - 4"
   ]
  },
  {
   "cell_type": "markdown",
   "id": "d9fd2d51",
   "metadata": {},
   "source": [
    "#### What is a generator function in python? Why yield keyword is used? Give an example of a generator function."
   ]
  },
  {
   "cell_type": "markdown",
   "id": "50735a35",
   "metadata": {},
   "source": [
    "### Ans - 4"
   ]
  },
  {
   "cell_type": "code",
   "execution_count": 1,
   "id": "2d9fb180",
   "metadata": {},
   "outputs": [
    {
     "name": "stdout",
     "output_type": "stream",
     "text": [
      "0\n",
      "1\n",
      "2\n",
      "3\n",
      "4\n",
      "5\n",
      "6\n",
      "7\n",
      "8\n",
      "9\n"
     ]
    }
   ],
   "source": [
    "\"\"\"\n",
    "A generator function in Python is a function that returns an iterator object that produces a sequence of values when iterated\n",
    "over. A generator function uses the yield keyword instead of the return keyword to produce values from the generator.\n",
    "The yield keyword pauses the function execution and returns a value to the caller, and resumes the execution when the next \n",
    "value is requested.\n",
    "\n",
    "An example of a generator function is:\n",
    "\"\"\"\n",
    "def my_generator(n):\n",
    "    # initialize counter\n",
    "    value = 0\n",
    "    # loop until counter is less than n\n",
    "    while value < n:\n",
    "        # produce the current value of the counter\n",
    "        yield value\n",
    "        # increment the counter\n",
    "        value += 1\n",
    "\n",
    "nums = my_generator(10)\n",
    "for num in nums:\n",
    "    print(num)"
   ]
  },
  {
   "cell_type": "markdown",
   "id": "03eb2319",
   "metadata": {},
   "source": [
    "### Ques - 5"
   ]
  },
  {
   "cell_type": "markdown",
   "id": "2d68bbd8",
   "metadata": {},
   "source": [
    "####  Create a generator function for prime numbers less than 1000. Use the next() method to print the first 20 prime numbers."
   ]
  },
  {
   "cell_type": "markdown",
   "id": "140a2c93",
   "metadata": {},
   "source": [
    "### Ans - 5"
   ]
  },
  {
   "cell_type": "code",
   "execution_count": 6,
   "id": "8f241502",
   "metadata": {},
   "outputs": [
    {
     "name": "stdout",
     "output_type": "stream",
     "text": [
      "2\n",
      "3\n",
      "5\n",
      "7\n",
      "11\n",
      "13\n",
      "17\n",
      "19\n",
      "23\n",
      "29\n",
      "31\n",
      "37\n",
      "41\n",
      "43\n",
      "47\n",
      "53\n",
      "59\n",
      "61\n",
      "67\n",
      "71\n",
      "73\n",
      "79\n",
      "83\n",
      "89\n",
      "97\n",
      "101\n",
      "103\n",
      "107\n",
      "109\n",
      "113\n",
      "127\n",
      "131\n",
      "137\n",
      "139\n",
      "149\n",
      "151\n",
      "157\n",
      "163\n",
      "167\n",
      "173\n",
      "179\n",
      "181\n",
      "191\n",
      "193\n",
      "197\n",
      "199\n",
      "211\n",
      "223\n",
      "227\n",
      "229\n",
      "233\n",
      "239\n",
      "241\n",
      "251\n",
      "257\n",
      "263\n",
      "269\n",
      "271\n",
      "277\n",
      "281\n",
      "283\n",
      "293\n",
      "307\n",
      "311\n",
      "313\n",
      "317\n",
      "331\n",
      "337\n",
      "347\n",
      "349\n",
      "353\n",
      "359\n",
      "367\n",
      "373\n",
      "379\n",
      "383\n",
      "389\n",
      "397\n",
      "401\n",
      "409\n",
      "419\n",
      "421\n",
      "431\n",
      "433\n",
      "439\n",
      "443\n",
      "449\n",
      "457\n",
      "461\n",
      "463\n",
      "467\n",
      "479\n",
      "487\n",
      "491\n",
      "499\n",
      "503\n",
      "509\n",
      "521\n",
      "523\n",
      "541\n",
      "547\n",
      "557\n",
      "563\n",
      "569\n",
      "571\n",
      "577\n",
      "587\n",
      "593\n",
      "599\n",
      "601\n",
      "607\n",
      "613\n",
      "617\n",
      "619\n",
      "631\n",
      "641\n",
      "643\n",
      "647\n",
      "653\n",
      "659\n",
      "661\n",
      "673\n",
      "677\n",
      "683\n",
      "691\n",
      "701\n",
      "709\n",
      "719\n",
      "727\n",
      "733\n",
      "739\n",
      "743\n",
      "751\n",
      "757\n",
      "761\n",
      "769\n",
      "773\n",
      "787\n",
      "797\n",
      "809\n",
      "811\n",
      "821\n",
      "823\n",
      "827\n",
      "829\n",
      "839\n",
      "853\n",
      "857\n",
      "859\n",
      "863\n",
      "877\n",
      "881\n",
      "883\n",
      "887\n",
      "907\n",
      "911\n",
      "919\n",
      "929\n",
      "937\n",
      "941\n",
      "947\n",
      "953\n",
      "967\n",
      "971\n",
      "977\n",
      "983\n",
      "991\n",
      "997\n"
     ]
    },
    {
     "ename": "StopIteration",
     "evalue": "",
     "output_type": "error",
     "traceback": [
      "\u001b[1;31m---------------------------------------------------------------------------\u001b[0m",
      "\u001b[1;31mStopIteration\u001b[0m                             Traceback (most recent call last)",
      "\u001b[1;32m~\\AppData\\Local\\Temp\\ipykernel_16776\\678219026.py\u001b[0m in \u001b[0;36m<module>\u001b[1;34m\u001b[0m\n\u001b[0;32m     20\u001b[0m \u001b[0mprimes\u001b[0m \u001b[1;33m=\u001b[0m \u001b[0mprime_generator\u001b[0m\u001b[1;33m(\u001b[0m\u001b[1;36m1000\u001b[0m\u001b[1;33m)\u001b[0m\u001b[1;33m\u001b[0m\u001b[1;33m\u001b[0m\u001b[0m\n\u001b[0;32m     21\u001b[0m \u001b[1;32mfor\u001b[0m \u001b[0mprime\u001b[0m \u001b[1;32min\u001b[0m \u001b[0mrange\u001b[0m\u001b[1;33m(\u001b[0m\u001b[1;36m1000\u001b[0m\u001b[1;33m)\u001b[0m\u001b[1;33m:\u001b[0m\u001b[1;33m\u001b[0m\u001b[1;33m\u001b[0m\u001b[0m\n\u001b[1;32m---> 22\u001b[1;33m     \u001b[0mprint\u001b[0m\u001b[1;33m(\u001b[0m\u001b[0mnext\u001b[0m\u001b[1;33m(\u001b[0m\u001b[0mprimes\u001b[0m\u001b[1;33m)\u001b[0m\u001b[1;33m)\u001b[0m\u001b[1;33m\u001b[0m\u001b[1;33m\u001b[0m\u001b[0m\n\u001b[0m",
      "\u001b[1;31mStopIteration\u001b[0m: "
     ]
    }
   ],
   "source": [
    "def prime_generator(num):\n",
    "    n = 2\n",
    "    while n < num:\n",
    "        is_prime = True\n",
    "        for i in range(2, int(n**0.5) + 1):\n",
    "            if n % i == 0:\n",
    "                is_prime = False\n",
    "                break\n",
    "        if is_prime:\n",
    "            yield n\n",
    "        n += 1\n",
    "\n",
    "primes = prime_generator(1000)\n",
    "for prime in range(1000):\n",
    "    print(next(primes))\n"
   ]
  },
  {
   "cell_type": "markdown",
   "id": "c2ab69ad",
   "metadata": {},
   "source": [
    "### Ques - 6"
   ]
  },
  {
   "cell_type": "markdown",
   "id": "5e15701c",
   "metadata": {},
   "source": [
    "#### Write a python program to print the first 10 Fibonacci numbers using a while loop."
   ]
  },
  {
   "cell_type": "markdown",
   "id": "b73b90d9",
   "metadata": {},
   "source": [
    "### Ans - 6"
   ]
  },
  {
   "cell_type": "code",
   "execution_count": 9,
   "id": "18bb837f",
   "metadata": {},
   "outputs": [
    {
     "name": "stdout",
     "output_type": "stream",
     "text": [
      "1 1 2 3 5 8 13 21 34 55 89 144 "
     ]
    }
   ],
   "source": [
    "first = 1\n",
    "second = 1\n",
    "num = 10\n",
    "print(first,second,end=\" \")\n",
    "while(num>0):\n",
    "    third = first + second\n",
    "    first, second = second, third\n",
    "    num = num-1\n",
    "    print(third,end=\" \")"
   ]
  },
  {
   "cell_type": "markdown",
   "id": "abbf99d0",
   "metadata": {},
   "source": [
    "### Ques - 7"
   ]
  },
  {
   "cell_type": "markdown",
   "id": "fb89af8c",
   "metadata": {},
   "source": [
    "#### Write a List Comprehension to iterate through the given string: ‘pwskills’. Expected output: ['p', 'w', 's', 'k', 'i', 'l', 'l', 's'] "
   ]
  },
  {
   "cell_type": "markdown",
   "id": "64e4b490",
   "metadata": {},
   "source": [
    "### Ans - 7"
   ]
  },
  {
   "cell_type": "code",
   "execution_count": 10,
   "id": "5f9c558b",
   "metadata": {},
   "outputs": [
    {
     "name": "stdout",
     "output_type": "stream",
     "text": [
      "['p', 'w', 's', 'k', 'i', 'l', 'l', 's']\n"
     ]
    }
   ],
   "source": [
    "l=[x for x in \"pwskills\"]\n",
    "print(l)"
   ]
  },
  {
   "cell_type": "markdown",
   "id": "4805a9c4",
   "metadata": {},
   "source": [
    "### Ques - 8"
   ]
  },
  {
   "cell_type": "markdown",
   "id": "f7a72413",
   "metadata": {},
   "source": [
    "#### Write a python program to check whether a given number is Palindrome or not using a while loop."
   ]
  },
  {
   "cell_type": "markdown",
   "id": "02b4fc6b",
   "metadata": {},
   "source": [
    "### Ans -8"
   ]
  },
  {
   "cell_type": "code",
   "execution_count": 17,
   "id": "7d179178",
   "metadata": {},
   "outputs": [
    {
     "name": "stdout",
     "output_type": "stream",
     "text": [
      "Enter a number : 12356\n",
      "Given String is not palindrome\n"
     ]
    }
   ],
   "source": [
    "num=int(input(\"Enter a number : \"))\n",
    "original = num\n",
    "check = 0\n",
    "while(num > 0 ):\n",
    "    last = num % 10\n",
    "    check = check * 10 + last\n",
    "    num //= 10\n",
    "\n",
    "if original == check: \n",
    "    print(\"Given String is palindrome\")\n",
    "else:\n",
    "    print(\"Given String is not palindrome\")"
   ]
  },
  {
   "cell_type": "markdown",
   "id": "a34bdbf8",
   "metadata": {},
   "source": [
    "### Ques - 9"
   ]
  },
  {
   "cell_type": "markdown",
   "id": "26dd0351",
   "metadata": {},
   "source": [
    "#### Write a code to print odd numbers from 1 to 100 using list comprehension."
   ]
  },
  {
   "cell_type": "markdown",
   "id": "28c1742d",
   "metadata": {},
   "source": [
    "### Ans - 9"
   ]
  },
  {
   "cell_type": "code",
   "execution_count": 20,
   "id": "d38a6e62",
   "metadata": {},
   "outputs": [
    {
     "name": "stdout",
     "output_type": "stream",
     "text": [
      "[1, 3, 5, 7, 9, 11, 13, 15, 17, 19, 21, 23, 25, 27, 29, 31, 33, 35, 37, 39, 41, 43, 45, 47, 49, 51, 53, 55, 57, 59, 61, 63, 65, 67, 69, 71, 73, 75, 77, 79, 81, 83, 85, 87, 89, 91, 93, 95, 97, 99]\n"
     ]
    }
   ],
   "source": [
    "l = [i for i in range(1,101) if i%2==1]\n",
    "print(l)"
   ]
  },
  {
   "cell_type": "code",
   "execution_count": null,
   "id": "9bee1577",
   "metadata": {},
   "outputs": [],
   "source": []
  }
 ],
 "metadata": {
  "kernelspec": {
   "display_name": "Python 3 (ipykernel)",
   "language": "python",
   "name": "python3"
  },
  "language_info": {
   "codemirror_mode": {
    "name": "ipython",
    "version": 3
   },
   "file_extension": ".py",
   "mimetype": "text/x-python",
   "name": "python",
   "nbconvert_exporter": "python",
   "pygments_lexer": "ipython3",
   "version": "3.9.13"
  }
 },
 "nbformat": 4,
 "nbformat_minor": 5
}
