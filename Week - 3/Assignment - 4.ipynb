{
 "cells": [
  {
   "cell_type": "markdown",
   "id": "35e73a3a",
   "metadata": {},
   "source": [
    "### Ques-1"
   ]
  },
  {
   "cell_type": "markdown",
   "id": "d1af0c38",
   "metadata": {},
   "source": [
    "#### Create a python program to sort the given list of tuples based on integer value using a lambda function. \n",
    "#### [('Sachin Tendulkar', 34357), ('Ricky Ponting', 27483), ('Jack Kallis', 25534), ('Virat Kohli', 24936)]"
   ]
  },
  {
   "cell_type": "markdown",
   "id": "3ba90f22",
   "metadata": {},
   "source": [
    "### Ans - 1"
   ]
  },
  {
   "cell_type": "code",
   "execution_count": 2,
   "id": "46314949",
   "metadata": {},
   "outputs": [
    {
     "name": "stdout",
     "output_type": "stream",
     "text": [
      "[('Virat Kohli', 24936), ('Jack Kallis', 25534), ('Ricky Ponting', 27483), ('Sachin Tendulkar', 34357)]\n"
     ]
    }
   ],
   "source": [
    "lst = [('Sachin Tendulkar', 34357), ('Ricky Ponting', 27483), ('Jack Kallis', 25534), ('Virat Kohli', 24936)]\n",
    "lst.sort(key = lambda x : x[1])\n",
    "print(lst)"
   ]
  },
  {
   "cell_type": "markdown",
   "id": "84f5287b",
   "metadata": {},
   "source": [
    "### Ques - 2"
   ]
  },
  {
   "cell_type": "markdown",
   "id": "6c5f4c83",
   "metadata": {},
   "source": [
    "#### Write a Python Program to find the squares of all the numbers in the given list of integers using lambda and map functions.       [1, 2, 3, 4, 5, 6, 7, 8, 9, 10]"
   ]
  },
  {
   "cell_type": "markdown",
   "id": "ed881294",
   "metadata": {},
   "source": [
    "### Ans - 2"
   ]
  },
  {
   "cell_type": "code",
   "execution_count": 3,
   "id": "d4771df2",
   "metadata": {},
   "outputs": [
    {
     "name": "stdout",
     "output_type": "stream",
     "text": [
      "[1, 2, 3, 4, 5, 6, 7, 8, 9, 10]\n",
      "[1, 4, 9, 16, 25, 36, 49, 64, 81, 100]\n"
     ]
    }
   ],
   "source": [
    "lst = [1, 2, 3, 4, 5, 6, 7, 8, 9, 10]\n",
    "square = list(map(lambda x : x*x,lst))\n",
    "print(lst)\n",
    "print(square)"
   ]
  },
  {
   "cell_type": "markdown",
   "id": "08a31126",
   "metadata": {},
   "source": [
    "### Ques - 3"
   ]
  },
  {
   "cell_type": "markdown",
   "id": "54c910a7",
   "metadata": {},
   "source": [
    "#### Write a python program to convert the given list of integers into a tuple of strings. Use map and lambda functions\n",
    "#### Given String: [1, 2, 3, 4, 5, 6, 7, 8, 9, 10]\n",
    "#### Expected output: ('1', '2', '3', '4', '5', '6', '7', '8', '9', '10')"
   ]
  },
  {
   "cell_type": "markdown",
   "id": "b69dc80e",
   "metadata": {},
   "source": [
    "### Ans - 3"
   ]
  },
  {
   "cell_type": "code",
   "execution_count": 5,
   "id": "1132d279",
   "metadata": {},
   "outputs": [
    {
     "name": "stdout",
     "output_type": "stream",
     "text": [
      "('1', '2', '3', '4', '5', '6', '7', '8', '9', '10')\n"
     ]
    }
   ],
   "source": [
    "lst = [1, 2, 3, 4, 5, 6, 7, 8, 9, 10]\n",
    "tup = tuple(map(lambda x : str(x),lst))\n",
    "print(tup)"
   ]
  },
  {
   "cell_type": "markdown",
   "id": "3e3c28f2",
   "metadata": {},
   "source": [
    "### Ques - 4"
   ]
  },
  {
   "cell_type": "markdown",
   "id": "052108c4",
   "metadata": {},
   "source": [
    "#### Write a python program using reduce function to compute the product of a list containing numbers from 1 to 25"
   ]
  },
  {
   "cell_type": "markdown",
   "id": "546260df",
   "metadata": {},
   "source": [
    "### Ans - 4"
   ]
  },
  {
   "cell_type": "code",
   "execution_count": 7,
   "id": "508e3eff",
   "metadata": {},
   "outputs": [
    {
     "name": "stdout",
     "output_type": "stream",
     "text": [
      "15511210043330985984000000\n"
     ]
    }
   ],
   "source": [
    "from functools import reduce\n",
    "lst = [i for i in range(1,26)]\n",
    "lst2 = reduce(lambda x,y : x*y,lst)\n",
    "print(lst2)"
   ]
  },
  {
   "cell_type": "markdown",
   "id": "9fc89c08",
   "metadata": {},
   "source": [
    "### Ques - 5"
   ]
  },
  {
   "cell_type": "markdown",
   "id": "80b5ec01",
   "metadata": {},
   "source": [
    "#### Write a python program to filter the numbers in a given list that are divisible by 2 and 3 using the filter function.\n",
    "#### [2, 3, 6, 9, 27, 60, 90, 120, 55, 46]"
   ]
  },
  {
   "cell_type": "markdown",
   "id": "167f749e",
   "metadata": {},
   "source": [
    "### Ans - 5"
   ]
  },
  {
   "cell_type": "code",
   "execution_count": 8,
   "id": "f07152a0",
   "metadata": {},
   "outputs": [
    {
     "name": "stdout",
     "output_type": "stream",
     "text": [
      "[6, 60, 90, 120]\n"
     ]
    }
   ],
   "source": [
    "lst = [2, 3, 6, 9, 27, 60, 90, 120, 55, 46]\n",
    "lst2 = list(filter(lambda x : x%2==0 and x%3==0,lst))\n",
    "print(lst2)"
   ]
  },
  {
   "cell_type": "markdown",
   "id": "5a4d5fef",
   "metadata": {},
   "source": [
    "### Ques - 6"
   ]
  },
  {
   "cell_type": "markdown",
   "id": "58f0cbbe",
   "metadata": {},
   "source": [
    "#### Write a python program to find palindromes in the given list of strings using lambda and filter function.\n",
    "#### ['python', 'php', 'aba', 'radar', 'level']"
   ]
  },
  {
   "cell_type": "markdown",
   "id": "175873f9",
   "metadata": {},
   "source": [
    "### Ans - 6"
   ]
  },
  {
   "cell_type": "code",
   "execution_count": 10,
   "id": "02b32fdc",
   "metadata": {},
   "outputs": [
    {
     "name": "stdout",
     "output_type": "stream",
     "text": [
      "['php', 'aba', 'radar', 'level']\n"
     ]
    }
   ],
   "source": [
    "lst = ['python', 'php', 'aba', 'radar', 'level']\n",
    "palim = list(filter(lambda x : x == x[::-1],lst))\n",
    "print(palim)"
   ]
  }
 ],
 "metadata": {
  "kernelspec": {
   "display_name": "Python 3 (ipykernel)",
   "language": "python",
   "name": "python3"
  },
  "language_info": {
   "codemirror_mode": {
    "name": "ipython",
    "version": 3
   },
   "file_extension": ".py",
   "mimetype": "text/x-python",
   "name": "python",
   "nbconvert_exporter": "python",
   "pygments_lexer": "ipython3",
   "version": "3.9.13"
  }
 },
 "nbformat": 4,
 "nbformat_minor": 5
}
