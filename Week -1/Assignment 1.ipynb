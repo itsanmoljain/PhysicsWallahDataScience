{
 "cells": [
  {
   "cell_type": "markdown",
   "id": "b653b8c4",
   "metadata": {},
   "source": [
    "### Ques-1."
   ]
  },
  {
   "cell_type": "markdown",
   "id": "4613534c",
   "metadata": {},
   "source": [
    "Create one variable containing following type of data:\n",
    "(i) string\n",
    "(ii) list\n",
    "(iii) float\n",
    "(iv) tuple"
   ]
  },
  {
   "cell_type": "markdown",
   "id": "78a25e37",
   "metadata": {},
   "source": [
    "### Ans-1"
   ]
  },
  {
   "cell_type": "code",
   "execution_count": 4,
   "id": "7852a4d3",
   "metadata": {},
   "outputs": [
    {
     "name": "stdout",
     "output_type": "stream",
     "text": [
      "s : <class 'str'>\n",
      "lst : <class 'list'>\n",
      "num : <class 'float'>\n",
      "tup : <class 'tuple'>\n"
     ]
    }
   ],
   "source": [
    "# string\n",
    "s = \"Assignment 1\"\n",
    "print(\"s :\",type(s))\n",
    "\n",
    "#list\n",
    "lst = [1, 2, 3, 4, 9.56, \"hello\"]\n",
    "print(\"lst :\",type(lst))\n",
    "\n",
    "#float\n",
    "num = 34.54\n",
    "print(\"num :\",type(num))\n",
    "\n",
    "#tuple\n",
    "tup = (1, 2, 4 ,5 ,3 ,\"hello\")\n",
    "print(\"tup :\",type(tup))"
   ]
  },
  {
   "cell_type": "markdown",
   "id": "cacd78f8",
   "metadata": {},
   "source": [
    "### Ques-2"
   ]
  },
  {
   "cell_type": "markdown",
   "id": "6b274c50",
   "metadata": {},
   "source": [
    "Given are some following variables containing data:\n",
    "(i) var1 = ‘ ‘\n",
    "(ii) var2 = ‘[ DS , ML , Python]’\n",
    "(iii) var3 = [ ‘DS’ , ’ML’ , ‘Python’ ]\n",
    "(iv) var4 = 1.\n",
    "What will be the data type of the above given variable."
   ]
  },
  {
   "cell_type": "markdown",
   "id": "5ed3065e",
   "metadata": {},
   "source": [
    "### Ans-2"
   ]
  },
  {
   "cell_type": "markdown",
   "id": "98c7eb69",
   "metadata": {},
   "source": [
    "##### For var1 datatype will be string as it is enclosed within the quotation mark\n",
    "##### For var2 datatype will be string as it is enclosed within the quotation mark\n",
    "##### For var3 datatype will be list\n",
    "##### For var4 datatype will be numeric"
   ]
  },
  {
   "cell_type": "markdown",
   "id": "3e4648b9",
   "metadata": {},
   "source": [
    "### Ques-3"
   ]
  },
  {
   "cell_type": "markdown",
   "id": "6e07a7d6",
   "metadata": {},
   "source": [
    "Explain the use of the following operators using an example:\n",
    "(i) /\n",
    "(ii) %\n",
    "(iii) //\n",
    "(iv) **"
   ]
  },
  {
   "cell_type": "code",
   "execution_count": 5,
   "id": "2269d696",
   "metadata": {},
   "outputs": [
    {
     "name": "stdout",
     "output_type": "stream",
     "text": [
      "/ : 100.0\n",
      "% : 2\n",
      "/ : 100\n",
      "** : 3125\n"
     ]
    }
   ],
   "source": [
    "#  / is used for division, return the quotient when two numbers are divided\n",
    "print(\"/ :\",500/5)\n",
    "#  % returns the remain when two numbers are divided\n",
    "print(\"% :\",502%5)\n",
    "#  // is used for floor division, return the intetral part quotient when two numbers are divided\n",
    "print(\"/ :\",500//5)\n",
    "#  // is used for exponention, return the A raise to the power B\n",
    "print(\"** :\",5**5)"
   ]
  },
  {
   "cell_type": "markdown",
   "id": "155f18a1",
   "metadata": {},
   "source": [
    "### Ques-4"
   ]
  },
  {
   "cell_type": "markdown",
   "id": "c39f01e9",
   "metadata": {},
   "source": [
    "Create a list of length 10 of your choice containing multiple types of data. Using for loop print the\n",
    "element and its data type."
   ]
  },
  {
   "cell_type": "markdown",
   "id": "45c369db",
   "metadata": {},
   "source": [
    "### Ans-4"
   ]
  },
  {
   "cell_type": "code",
   "execution_count": 6,
   "id": "90f75429",
   "metadata": {},
   "outputs": [
    {
     "name": "stdout",
     "output_type": "stream",
     "text": [
      "1 : <class 'int'>\n",
      "2 : <class 'int'>\n",
      "3 : <class 'int'>\n",
      "4 : <class 'int'>\n",
      "5 : <class 'int'>\n",
      "7.8 : <class 'float'>\n",
      "True : <class 'bool'>\n",
      "(7-5j) : <class 'complex'>\n",
      "hello : <class 'str'>\n",
      "PW : <class 'str'>\n"
     ]
    }
   ],
   "source": [
    "lst= [1,2,3,4,5,7.8,True,7-5j,'hello','PW']\n",
    "for i in lst:\n",
    "    print(i,\":\", type(i))"
   ]
  },
  {
   "cell_type": "markdown",
   "id": "0245e85f",
   "metadata": {},
   "source": [
    "### Ques-5"
   ]
  },
  {
   "cell_type": "markdown",
   "id": "724be434",
   "metadata": {},
   "source": [
    "Using a while loop, verify if the number A is purely divisible by number B and if so then how many\n",
    "times it can be divisible."
   ]
  },
  {
   "cell_type": "markdown",
   "id": "3b5d260d",
   "metadata": {},
   "source": [
    "### Ans-5"
   ]
  },
  {
   "cell_type": "code",
   "execution_count": 9,
   "id": "d4a19321",
   "metadata": {},
   "outputs": [
    {
     "name": "stdout",
     "output_type": "stream",
     "text": [
      "Enter Dividend : 500\n",
      "Enter Divisor : 5\n",
      "Number A is divisible by Number B 3 times.\n"
     ]
    }
   ],
   "source": [
    "A = int(input(\"Enter Dividend : \"))\n",
    "B = int(input(\"Enter Divisor : \"))\n",
    "count = 0\n",
    "\n",
    "while A%B==0:\n",
    "    count +=1\n",
    "    A/=B\n",
    "    \n",
    "if count>0:\n",
    "    print(\"Number A is divisible by Number B\",count,\"times.\")\n",
    "else:\n",
    "    print(\"Number A is not divisible by Number B.\")"
   ]
  },
  {
   "cell_type": "markdown",
   "id": "9a4d7553",
   "metadata": {},
   "source": [
    "### Ques-6"
   ]
  },
  {
   "cell_type": "markdown",
   "id": "75df4d9b",
   "metadata": {},
   "source": [
    "Create a list containing 25 int type data. Using for loop and if-else condition print if the element is\n",
    "divisible by 3 or not."
   ]
  },
  {
   "cell_type": "markdown",
   "id": "a59e5170",
   "metadata": {},
   "source": [
    "### Ans-6"
   ]
  },
  {
   "cell_type": "code",
   "execution_count": 10,
   "id": "a2a1466b",
   "metadata": {},
   "outputs": [
    {
     "name": "stdout",
     "output_type": "stream",
     "text": [
      "7 is not divisible by 3\n",
      "12 is divisible by 3\n",
      "8 is not divisible by 3\n",
      "21 is divisible by 3\n",
      "30 is divisible by 3\n",
      "16 is not divisible by 3\n",
      "9 is divisible by 3\n",
      "2 is not divisible by 3\n",
      "25 is not divisible by 3\n",
      "6 is divisible by 3\n",
      "18 is divisible by 3\n",
      "1 is not divisible by 3\n",
      "27 is divisible by 3\n",
      "14 is not divisible by 3\n",
      "3 is divisible by 3\n",
      "5 is not divisible by 3\n",
      "20 is not divisible by 3\n",
      "22 is not divisible by 3\n",
      "11 is not divisible by 3\n",
      "13 is not divisible by 3\n",
      "24 is divisible by 3\n",
      "17 is not divisible by 3\n",
      "4 is not divisible by 3\n",
      "19 is not divisible by 3\n",
      "10 is not divisible by 3\n"
     ]
    }
   ],
   "source": [
    "lst = my_list = [7, 12, 8, 21, 30, 16, 9, 2, 25, 6, 18, 1, 27, 14, 3, 5, 20, 22, 11, 13, 24, 17, 4, 19, 10]\n",
    "for i in lst:\n",
    "    if i%3==0:\n",
    "        print(i,\"is divisible by 3\")\n",
    "    else:\n",
    "        print(i,\"is not divisible by 3\")"
   ]
  },
  {
   "cell_type": "markdown",
   "id": "0fea9a83",
   "metadata": {},
   "source": [
    " ### Ques-7"
   ]
  },
  {
   "cell_type": "markdown",
   "id": "0b465dba",
   "metadata": {},
   "source": [
    "What do you understand about mutable and immutable data types? Give examples for both showing\n",
    "this property."
   ]
  },
  {
   "cell_type": "markdown",
   "id": "47780eb1",
   "metadata": {},
   "source": [
    "### Ans-7"
   ]
  },
  {
   "cell_type": "markdown",
   "id": "89ccb774",
   "metadata": {},
   "source": [
    "Immutable datatypes are objects that cannot be modified or altered after they have been created. Examples of immutable data types include strings & tuples.\n",
    "Mutable data types are those whose values can be changed or new values can be assigned to them. Examples include lists, dictionaries, and sets are mutable"
   ]
  },
  {
   "cell_type": "code",
   "execution_count": null,
   "id": "e347378e",
   "metadata": {},
   "outputs": [],
   "source": []
  },
  {
   "cell_type": "code",
   "execution_count": null,
   "id": "30a504fa",
   "metadata": {},
   "outputs": [],
   "source": []
  }
 ],
 "metadata": {
  "kernelspec": {
   "display_name": "Python 3 (ipykernel)",
   "language": "python",
   "name": "python3"
  },
  "language_info": {
   "codemirror_mode": {
    "name": "ipython",
    "version": 3
   },
   "file_extension": ".py",
   "mimetype": "text/x-python",
   "name": "python",
   "nbconvert_exporter": "python",
   "pygments_lexer": "ipython3",
   "version": "3.9.13"
  }
 },
 "nbformat": 4,
 "nbformat_minor": 5
}
