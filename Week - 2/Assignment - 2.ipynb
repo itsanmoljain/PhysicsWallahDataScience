{
 "cells": [
  {
   "attachments": {},
   "cell_type": "markdown",
   "id": "46be04ac",
   "metadata": {},
   "source": [
    "# Assignment- 2 "
   ]
  },
  {
   "attachments": {},
   "cell_type": "markdown",
   "id": "61562891",
   "metadata": {},
   "source": [
    "#### Ques 1-> \n",
    "How do you comment code in Python? What are the different types of comments?"
   ]
  },
  {
   "attachments": {},
   "cell_type": "markdown",
   "id": "24738280",
   "metadata": {},
   "source": [
    "#### Ans->\n",
    "Comment in python is any information that is ignored or is not executed by the interpreter but they remain in the code to provide information to the coder."
   ]
  },
  {
   "attachments": {},
   "cell_type": "markdown",
   "id": "f641efe7",
   "metadata": {},
   "source": [
    "##### Single line comment \n",
    "##### Represented by '#'"
   ]
  },
  {
   "cell_type": "code",
   "execution_count": 1,
   "id": "727949ef",
   "metadata": {},
   "outputs": [
    {
     "name": "stdout",
     "output_type": "stream",
     "text": [
      "35\n",
      "<class 'int'>\n"
     ]
    }
   ],
   "source": [
    "# This is a single line comment\n",
    "a= 35\n",
    "print(a)\n",
    "print(type(a))"
   ]
  },
  {
   "attachments": {},
   "cell_type": "markdown",
   "id": "27f9a4ee",
   "metadata": {},
   "source": [
    "##### Multiline comment\n",
    "##### Represented by: '''.....''' or \"\"\".......\"\"\""
   ]
  },
  {
   "cell_type": "code",
   "execution_count": 2,
   "id": "abbaa489",
   "metadata": {},
   "outputs": [
    {
     "name": "stdout",
     "output_type": "stream",
     "text": [
      "-30\n",
      "<class 'int'>\n",
      "Hello my name is Anmol and I am writing my assignment for pw skills.\n",
      "Multiline comment means to write multiple lines and inclosing them in three double or single quotes.\n",
      "However number lines are there in the quotes will be ignored by the interpreter.\n",
      "These comment can be stored in a variable for further future use.\n",
      "\n"
     ]
    }
   ],
   "source": [
    "comm = '''Hello my name is Anmol and I am writing my assignment for pw skills.\n",
    "Multiline comment means to write multiple lines and inclosing them in three double or single quotes.\n",
    "However number lines are there in the quotes will be ignored by the interpreter.\n",
    "These comment can be stored in a variable for further future use.\n",
    "'''\n",
    "\n",
    "a = 20-50\n",
    "print(a)\n",
    "print(type(a))\n",
    "print(comm)"
   ]
  },
  {
   "attachments": {},
   "cell_type": "markdown",
   "id": "9cd4d58c",
   "metadata": {},
   "source": [
    "###### Note that if we want to comment multiple lines individually in one go the you just need to select the text you want to comment and press : ctrl+ /  and all of the lines will be commented individually"
   ]
  },
  {
   "attachments": {},
   "cell_type": "markdown",
   "id": "f8a5156a",
   "metadata": {},
   "source": [
    "#### Ques2 ->\n",
    "What are variables in Python? How do you declare and assign values to variables?  "
   ]
  },
  {
   "attachments": {},
   "cell_type": "markdown",
   "id": "018daacc",
   "metadata": {},
   "source": [
    "#### Ans->\n",
    "Variables are the names by which data is stored in the memory. When a variable is declared then a memory is allocated to the data assigned to the variable. In short variable is a refernce for any data.\n",
    "###### Declaratioon and value assignment:"
   ]
  },
  {
   "cell_type": "code",
   "execution_count": 3,
   "id": "f2f45b67",
   "metadata": {},
   "outputs": [],
   "source": [
    "a = 10         #Assigning a integer value to a\n",
    "b =34.89       #Assigning a float value to b\n",
    "c = 'Anmol ' #Assigning a string value to c\n",
    "d = 22 + 4j    #Assigning a complex value to d"
   ]
  },
  {
   "attachments": {},
   "cell_type": "markdown",
   "id": "a9f6c4cd",
   "metadata": {},
   "source": [
    "#### Ques3->\n",
    "How do you convert one data type to another in Python?             "
   ]
  },
  {
   "attachments": {},
   "cell_type": "markdown",
   "id": "83651d20",
   "metadata": {},
   "source": [
    "#### Ans-> \n",
    "In python data type can be converted with the help of typecasting."
   ]
  },
  {
   "attachments": {},
   "cell_type": "markdown",
   "id": "661005c6",
   "metadata": {},
   "source": [
    " type casting is of two types:"
   ]
  },
  {
   "attachments": {},
   "cell_type": "markdown",
   "id": "08b70a06",
   "metadata": {},
   "source": [
    " 1> explicit typecasting: In this the data type of the variable is specified during input."
   ]
  },
  {
   "attachments": {},
   "cell_type": "markdown",
   "id": "35c6f7be",
   "metadata": {},
   "source": [
    " 2> Implicit typecasting: In this a function is used or value is assigned to the variable which automatically convert                                    the data type of the variable in accordance to the input."
   ]
  },
  {
   "cell_type": "code",
   "execution_count": 11,
   "id": "ec28db55",
   "metadata": {},
   "outputs": [
    {
     "name": "stdout",
     "output_type": "stream",
     "text": [
      "Please enter the input of your choice: 2.99\n"
     ]
    },
    {
     "ename": "ValueError",
     "evalue": "invalid literal for int() with base 10: '2.99'",
     "output_type": "error",
     "traceback": [
      "\u001b[1;31m---------------------------------------------------------------------------\u001b[0m",
      "\u001b[1;31mValueError\u001b[0m                                Traceback (most recent call last)",
      "Cell \u001b[1;32mIn[11], line 2\u001b[0m\n\u001b[0;32m      1\u001b[0m \u001b[38;5;66;03m# Example of explicit typecasting\u001b[39;00m\n\u001b[1;32m----> 2\u001b[0m a\u001b[38;5;241m=\u001b[39m \u001b[38;5;28;43mint\u001b[39;49m\u001b[43m(\u001b[49m\u001b[38;5;28;43minput\u001b[39;49m\u001b[43m(\u001b[49m\u001b[38;5;124;43m'\u001b[39;49m\u001b[38;5;124;43mPlease enter the input of your choice: \u001b[39;49m\u001b[38;5;124;43m'\u001b[39;49m\u001b[43m)\u001b[49m\u001b[43m)\u001b[49m\n\u001b[0;32m      3\u001b[0m \u001b[38;5;28mprint\u001b[39m(a)\n\u001b[0;32m      4\u001b[0m \u001b[38;5;28mprint\u001b[39m(\u001b[38;5;28mtype\u001b[39m(a))\n",
      "\u001b[1;31mValueError\u001b[0m: invalid literal for int() with base 10: '2.99'"
     ]
    }
   ],
   "source": [
    "# Example of explicit typecasting\n",
    "a= int(input('Please enter the input of your choice: '))\n",
    "print(a)\n",
    "print(type(a))       "
   ]
  },
  {
   "cell_type": "code",
   "execution_count": 3,
   "id": "6f2faec4",
   "metadata": {},
   "outputs": [
    {
     "name": "stdout",
     "output_type": "stream",
     "text": [
      "Please enter the input of your choice: 2\n",
      "2\n",
      "<class 'int'>\n"
     ]
    }
   ],
   "source": [
    "a= int(input('Please enter the input of your choice: '))\n",
    "print(a)\n",
    "print(type(a))"
   ]
  },
  {
   "cell_type": "code",
   "execution_count": 7,
   "id": "165d9d89",
   "metadata": {},
   "outputs": [
    {
     "name": "stdout",
     "output_type": "stream",
     "text": [
      "15\n",
      "<class 'int'>\n"
     ]
    }
   ],
   "source": [
    "# Example of implicit typecasting\n",
    "a= input('Please enter the input of your choice: ')\n",
    "n=eval(a)\n",
    "print(n)\n",
    "print(type(n))"
   ]
  },
  {
   "cell_type": "code",
   "execution_count": 6,
   "id": "9a1620fa",
   "metadata": {},
   "outputs": [
    {
     "name": "stdout",
     "output_type": "stream",
     "text": [
      "12\n",
      "<class 'int'>\n"
     ]
    }
   ],
   "source": [
    "a= input('Please enter the input of your choice: ')\n",
    "n=eval(a)\n",
    "print(n)\n",
    "print(type(n))"
   ]
  },
  {
   "cell_type": "code",
   "execution_count": 4,
   "id": "250a2a0f",
   "metadata": {},
   "outputs": [
    {
     "name": "stdout",
     "output_type": "stream",
     "text": [
      "Anmol <class 'str'>\n"
     ]
    }
   ],
   "source": [
    "a='Anmol'\n",
    "print(a,type(a))"
   ]
  },
  {
   "cell_type": "code",
   "execution_count": 5,
   "id": "5546c78a",
   "metadata": {},
   "outputs": [
    {
     "name": "stdout",
     "output_type": "stream",
     "text": [
      "21.0999 <class 'float'>\n"
     ]
    }
   ],
   "source": [
    "a=21.0999\n",
    "print(a,type(a))"
   ]
  },
  {
   "attachments": {},
   "cell_type": "markdown",
   "id": "b2a82ea2",
   "metadata": {},
   "source": [
    "#### Ques4-> \n",
    "How do you write and execute a Python script from the command line?\n"
   ]
  },
  {
   "attachments": {},
   "cell_type": "markdown",
   "id": "3f86573f",
   "metadata": {},
   "source": [
    "#### Ans-> \n",
    "##### Steps to write and execute script from the command line are:\n",
    "\n",
    "Step 1-> First open your python IDE and create a file named hello\n",
    "\n",
    "Step 2-> Write the piece of code in the newly created file and save it.\n",
    "\n",
    "Step 3-> Open properties of the created file and copy the location of the same.\n",
    "\n",
    "Step 4-> Open command promp and paste the location of the file and press enter(make sure to command 'cd' to change directory)\n",
    "\n",
    "Step 5-> Now, type:  python hello.py     and press enter.\n",
    "\n",
    "Step 6-> Your file has been written and executed...\n"
   ]
  },
  {
   "attachments": {},
   "cell_type": "markdown",
   "id": "595dd503",
   "metadata": {},
   "source": [
    "#### Ques5-> \n",
    "Given a list my_list = [1, 2, 3, 4, 5], write the code to slice the list and obtain the sub-list [2, 3].\n"
   ]
  },
  {
   "attachments": {},
   "cell_type": "markdown",
   "id": "ef517a84",
   "metadata": {},
   "source": [
    "#### Ans-> "
   ]
  },
  {
   "cell_type": "code",
   "execution_count": 12,
   "id": "76b50ede",
   "metadata": {},
   "outputs": [
    {
     "name": "stdout",
     "output_type": "stream",
     "text": [
      "[2, 3]\n"
     ]
    }
   ],
   "source": [
    "my_list=[1,2,3,4,5]\n",
    "print(my_list[1:3])"
   ]
  },
  {
   "attachments": {},
   "cell_type": "markdown",
   "id": "6063ca0b",
   "metadata": {},
   "source": [
    "#### Ques6->\n",
    "What is a complex number in mathematics, and how is it represented in Python?"
   ]
  },
  {
   "attachments": {},
   "cell_type": "markdown",
   "id": "b64d4ef8",
   "metadata": {},
   "source": [
    "#### Ans->\n",
    "Complex numbers ,in mathematics, in an element of number system that extendes real numbers with a special elment iota denoted by 'i'. With this system negative numbers can be represented in sqare root."
   ]
  },
  {
   "attachments": {},
   "cell_type": "markdown",
   "id": "1ae35dc7",
   "metadata": {},
   "source": [
    "In python comlex numbers are denoted by: (real part) + (imaginary part)j"
   ]
  },
  {
   "cell_type": "code",
   "execution_count": 14,
   "id": "561c0cf4",
   "metadata": {},
   "outputs": [
    {
     "name": "stdout",
     "output_type": "stream",
     "text": [
      "2.0\n",
      "3.0\n",
      "<class 'complex'>\n"
     ]
    }
   ],
   "source": [
    "com = 2+3j\n",
    "print(com.real)\n",
    "print(com.imag)\n",
    "print(type(com))"
   ]
  },
  {
   "attachments": {},
   "cell_type": "markdown",
   "id": "7f9d8d48",
   "metadata": {},
   "source": [
    "#### Ques7->\n",
    "What is the correct way to declare a variable named age and assign the value 25 to it?\n"
   ]
  },
  {
   "attachments": {},
   "cell_type": "markdown",
   "id": "d96be846",
   "metadata": {},
   "source": [
    "#### Ans-> "
   ]
  },
  {
   "cell_type": "code",
   "execution_count": 16,
   "id": "f2d19958",
   "metadata": {},
   "outputs": [
    {
     "name": "stdout",
     "output_type": "stream",
     "text": [
      "25\n"
     ]
    }
   ],
   "source": [
    "age = 25\n",
    "print(age)"
   ]
  },
  {
   "attachments": {},
   "cell_type": "markdown",
   "id": "832326ea",
   "metadata": {},
   "source": [
    "#### Ques8->\n",
    "Declare a variable named price and assign the value 9.99 to it. What data type does this variable\n",
    "belong to?"
   ]
  },
  {
   "attachments": {},
   "cell_type": "markdown",
   "id": "8c19e08c",
   "metadata": {},
   "source": [
    "#### Ans->"
   ]
  },
  {
   "cell_type": "code",
   "execution_count": 18,
   "id": "cb8e0c1f",
   "metadata": {},
   "outputs": [],
   "source": [
    "price = 9.99"
   ]
  },
  {
   "attachments": {},
   "cell_type": "markdown",
   "id": "e4174197",
   "metadata": {},
   "source": [
    "##### Price will belong to float data type "
   ]
  },
  {
   "attachments": {},
   "cell_type": "markdown",
   "id": "43d71099",
   "metadata": {},
   "source": [
    "#### Ques9->\n",
    "Create a variable named name and assign your full name to it as a string. How would you print the\n",
    "value of this variable?"
   ]
  },
  {
   "cell_type": "code",
   "execution_count": 8,
   "id": "7058a71a",
   "metadata": {},
   "outputs": [
    {
     "name": "stdout",
     "output_type": "stream",
     "text": [
      "Anmol Jain\n"
     ]
    }
   ],
   "source": [
    "name = 'Anmol Jain'\n",
    "print(name)"
   ]
  },
  {
   "attachments": {},
   "cell_type": "markdown",
   "id": "130b8637",
   "metadata": {},
   "source": [
    "#### Ques10->\n",
    "Given the string \"Hello, World!\", extract the substring \"World\"."
   ]
  },
  {
   "cell_type": "code",
   "execution_count": 7,
   "id": "c2d6b29a",
   "metadata": {},
   "outputs": [
    {
     "name": "stdout",
     "output_type": "stream",
     "text": [
      "World\n"
     ]
    }
   ],
   "source": [
    "st = 'Hello, World!'\n",
    "print(st[7:12])"
   ]
  },
  {
   "attachments": {},
   "cell_type": "markdown",
   "id": "87984f5c",
   "metadata": {},
   "source": [
    "####  Ques11->\n",
    "Create a variable named \"is_student\" and assign it a boolean value indicating whether you are\n",
    "currently a student or not."
   ]
  },
  {
   "cell_type": "code",
   "execution_count": 8,
   "id": "a5420750",
   "metadata": {},
   "outputs": [],
   "source": [
    "is_student = True"
   ]
  },
  {
   "cell_type": "code",
   "execution_count": 9,
   "id": "36780269",
   "metadata": {},
   "outputs": [
    {
     "data": {
      "text/plain": [
       "True"
      ]
     },
     "execution_count": 9,
     "metadata": {},
     "output_type": "execute_result"
    }
   ],
   "source": [
    "is_student"
   ]
  }
 ],
 "metadata": {
  "kernelspec": {
   "display_name": "Python 3 (ipykernel)",
   "language": "python",
   "name": "python3"
  },
  "language_info": {
   "codemirror_mode": {
    "name": "ipython",
    "version": 3
   },
   "file_extension": ".py",
   "mimetype": "text/x-python",
   "name": "python",
   "nbconvert_exporter": "python",
   "pygments_lexer": "ipython3",
   "version": "3.11.3"
  }
 },
 "nbformat": 4,
 "nbformat_minor": 5
}
