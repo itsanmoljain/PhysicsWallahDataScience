{
 "cells": [
  {
   "cell_type": "markdown",
   "id": "ca20c111",
   "metadata": {},
   "source": [
    "### Ques - 1"
   ]
  },
  {
   "cell_type": "markdown",
   "id": "b31e8313",
   "metadata": {},
   "source": [
    "#### Create a vehicle class with an init method having instance variables as name_of_vehicle, max_speed and average_of_vehicle."
   ]
  },
  {
   "cell_type": "markdown",
   "id": "ac0576fa",
   "metadata": {},
   "source": [
    "### Ans - 1"
   ]
  },
  {
   "cell_type": "code",
   "execution_count": 10,
   "id": "ce171f6c",
   "metadata": {},
   "outputs": [],
   "source": [
    "class vehicle:\n",
    "    def __init__(self,name_of_vehicle, max_speed, average_of_vehicle):\n",
    "        self.name_of_vehicle = name_of_vehicle\n",
    "        self.max_speed = max_speed\n",
    "        self.average_of_vehicle = average_of_vehicle"
   ]
  },
  {
   "cell_type": "markdown",
   "id": "e5c43329",
   "metadata": {},
   "source": [
    "### Ques - 2"
   ]
  },
  {
   "cell_type": "markdown",
   "id": "a9040e3f",
   "metadata": {},
   "source": [
    "#### Create a child class car from the vehicle class created in Que 1, which will inherit the vehicle class.Create a method named seating_capacity which takes capacity as an argument and returns the name of the vehicle and its seating capacity."
   ]
  },
  {
   "cell_type": "markdown",
   "id": "2159d3a9",
   "metadata": {},
   "source": [
    "### Ans - 2"
   ]
  },
  {
   "cell_type": "code",
   "execution_count": 14,
   "id": "062199df",
   "metadata": {},
   "outputs": [],
   "source": [
    "class car(vehicle):\n",
    "    def seating_capacity(self,capacity):\n",
    "        #self.capacity = capacity\n",
    "        return self.name_of_vehicle , capacity "
   ]
  },
  {
   "cell_type": "code",
   "execution_count": 15,
   "id": "f23a4025",
   "metadata": {},
   "outputs": [
    {
     "data": {
      "text/plain": [
       "('honda', 70)"
      ]
     },
     "execution_count": 15,
     "metadata": {},
     "output_type": "execute_result"
    }
   ],
   "source": [
    "Car = vehicle(\"honda\",100, 50 )\n",
    "Car1 = car(\"honda\",100, 50)\n",
    "Car1.seating_capacity(70)"
   ]
  },
  {
   "cell_type": "markdown",
   "id": "1dfa2de1",
   "metadata": {},
   "source": [
    "### Ques - 3"
   ]
  },
  {
   "cell_type": "markdown",
   "id": "18fff3a2",
   "metadata": {},
   "source": [
    "#### What is multiple inheritance? Write a python code to demonstrate multiple inheritance."
   ]
  },
  {
   "cell_type": "markdown",
   "id": "e988939e",
   "metadata": {},
   "source": [
    "#### Ans - 4"
   ]
  },
  {
   "cell_type": "code",
   "execution_count": 19,
   "id": "6b7b2beb",
   "metadata": {},
   "outputs": [
    {
     "name": "stdout",
     "output_type": "stream",
     "text": [
      "Base1 Base2\n"
     ]
    }
   ],
   "source": [
    "\"\"\"Multiple inheritance is a feature in object-oriented programming where a class can inherit attributes \n",
    "and methods from multiple parent classes.\n",
    "Python code to demonstrate multiple inheritance:\"\"\"\n",
    "class Base1:\n",
    "    def __init__(self):\n",
    "        self.str1 = \"Base1\"\n",
    "\n",
    "class Base2:\n",
    "    def __init__(self):\n",
    "        self.str2 = \"Base2\"\n",
    "\n",
    "class Derived(Base1, Base2):\n",
    "    def __init__(self):\n",
    "        Base1.__init__(self)\n",
    "        Base2.__init__(self)\n",
    "\n",
    "    def printStrs(self):\n",
    "        print(self.str1, self.str2)\n",
    "\n",
    "d = Derived()\n",
    "d.printStrs()\n"
   ]
  },
  {
   "cell_type": "markdown",
   "id": "54c145f4",
   "metadata": {},
   "source": [
    "### Ques - 4"
   ]
  },
  {
   "cell_type": "markdown",
   "id": "5b25c83e",
   "metadata": {},
   "source": [
    "#### What are getter and setter in python? Create a class and create a getter and a setter method in this class."
   ]
  },
  {
   "cell_type": "markdown",
   "id": "5e4a6303",
   "metadata": {},
   "source": [
    "### Ans - 4"
   ]
  },
  {
   "cell_type": "code",
   "execution_count": 21,
   "id": "dbdda00a",
   "metadata": {},
   "outputs": [],
   "source": [
    "\"\"\"\n",
    "Getter: A method that allows you to access an attribute in a given class.\n",
    "Setter: A method that allows you to set or change the value of an attribute in a class.\n",
    "Getters and setters in object-oriented programs is to ensure data encapsulation.\n",
    "\"\"\"\n",
    "class Person:\n",
    "    def __init__(self, name, gender, age):\n",
    "        self.__name = name\n",
    "        self.__gender = gender\n",
    "        self.__age = age\n",
    "        \n",
    "    def set_age(self, age):\n",
    "        self.__age = 0 if age < 0 else age\n",
    "        \n",
    "    def get_age(self):\n",
    "        return self.__age"
   ]
  },
  {
   "cell_type": "code",
   "execution_count": 22,
   "id": "fff324bd",
   "metadata": {},
   "outputs": [],
   "source": [
    "person = Person('Anmol', 'Male', 20)"
   ]
  },
  {
   "cell_type": "code",
   "execution_count": 23,
   "id": "9359472b",
   "metadata": {},
   "outputs": [
    {
     "data": {
      "text/plain": [
       "20"
      ]
     },
     "execution_count": 23,
     "metadata": {},
     "output_type": "execute_result"
    }
   ],
   "source": [
    "person.get_age()"
   ]
  },
  {
   "cell_type": "code",
   "execution_count": 24,
   "id": "3146e645",
   "metadata": {},
   "outputs": [
    {
     "data": {
      "text/plain": [
       "0"
      ]
     },
     "execution_count": 24,
     "metadata": {},
     "output_type": "execute_result"
    }
   ],
   "source": [
    "person.set_age(-23)\n",
    "person.get_age()"
   ]
  },
  {
   "cell_type": "code",
   "execution_count": 25,
   "id": "6a7d0525",
   "metadata": {},
   "outputs": [
    {
     "data": {
      "text/plain": [
       "23"
      ]
     },
     "execution_count": 25,
     "metadata": {},
     "output_type": "execute_result"
    }
   ],
   "source": [
    "person.set_age(23)\n",
    "person.get_age()"
   ]
  },
  {
   "cell_type": "markdown",
   "id": "b694ffb4",
   "metadata": {},
   "source": [
    "### Ques - 5"
   ]
  },
  {
   "cell_type": "markdown",
   "id": "e1518d1a",
   "metadata": {},
   "source": [
    "#### What is method overriding in python? Write a python code to demonstrate method overriding."
   ]
  },
  {
   "cell_type": "markdown",
   "id": "6190bc49",
   "metadata": {},
   "source": [
    "### Ans - 5"
   ]
  },
  {
   "cell_type": "code",
   "execution_count": 26,
   "id": "43708219",
   "metadata": {},
   "outputs": [
    {
     "name": "stdout",
     "output_type": "stream",
     "text": [
      "Calling child method\n"
     ]
    }
   ],
   "source": [
    "\"\"\"\n",
    "Method overriding is a feature of object-oriented programming that allows a subclass to provide a different implementation of\n",
    "a method that is already defined by its superclass or by one of its superclasses.\n",
    "example :-\n",
    "\"\"\"\n",
    "class Parent:        \n",
    "   def myMethod(self):\n",
    "      print('Calling parent method')\n",
    "\n",
    "class Child(Parent):\n",
    "   def myMethod(self):\n",
    "      print('Calling child method')\n",
    "\n",
    "c = Child()\n",
    "c.myMethod()"
   ]
  },
  {
   "cell_type": "code",
   "execution_count": null,
   "id": "caeefa7b",
   "metadata": {},
   "outputs": [],
   "source": []
  }
 ],
 "metadata": {
  "kernelspec": {
   "display_name": "Python 3 (ipykernel)",
   "language": "python",
   "name": "python3"
  },
  "language_info": {
   "codemirror_mode": {
    "name": "ipython",
    "version": 3
   },
   "file_extension": ".py",
   "mimetype": "text/x-python",
   "name": "python",
   "nbconvert_exporter": "python",
   "pygments_lexer": "ipython3",
   "version": "3.9.13"
  }
 },
 "nbformat": 4,
 "nbformat_minor": 5
}
